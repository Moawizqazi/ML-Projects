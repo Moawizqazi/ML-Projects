{
 "cells": [
  {
   "cell_type": "code",
   "execution_count": 1,
   "id": "c80ec734",
   "metadata": {},
   "outputs": [],
   "source": [
    "import pandas as pd\n",
    "import numpy as np\n",
    "\n",
    "import matplotlib\n",
    "import matplotlib.pyplot as plt\n",
    "from pandas.plotting import scatter_matrix\n",
    "%matplotlib inline\n",
    "\n",
    "import seaborn as sns\n",
    "sns.set(style = \"white\" , color_codes=True , font_scale=1.5)\n",
    "\n",
    "from sklearn.linear_model import LogisticRegression\n",
    "from sklearn.model_selection import train_test_split\n",
    "\n",
    "from sklearn.metrics import confusion_matrix\n",
    "from sklearn.metrics import classification_report\n",
    "from sklearn.metrics import accuracy_score\n",
    "from sklearn.metrics import precision_score\n",
    "from sklearn.metrics import recall_score\n",
    "from sklearn.metrics import f1_score\n",
    "from sklearn.metrics import confusion_matrix\n",
    "from sklearn import metrics"
   ]
  },
  {
   "cell_type": "code",
   "execution_count": 2,
   "id": "3735ff61",
   "metadata": {},
   "outputs": [
    {
     "data": {
      "text/html": [
       "<div>\n",
       "<style scoped>\n",
       "    .dataframe tbody tr th:only-of-type {\n",
       "        vertical-align: middle;\n",
       "    }\n",
       "\n",
       "    .dataframe tbody tr th {\n",
       "        vertical-align: top;\n",
       "    }\n",
       "\n",
       "    .dataframe thead th {\n",
       "        text-align: right;\n",
       "    }\n",
       "</style>\n",
       "<table border=\"1\" class=\"dataframe\">\n",
       "  <thead>\n",
       "    <tr style=\"text-align: right;\">\n",
       "      <th></th>\n",
       "      <th>PassengerId</th>\n",
       "      <th>Survived</th>\n",
       "      <th>Pclass</th>\n",
       "      <th>Name</th>\n",
       "      <th>Sex</th>\n",
       "      <th>Age</th>\n",
       "      <th>SibSp</th>\n",
       "      <th>Parch</th>\n",
       "      <th>Ticket</th>\n",
       "      <th>Fare</th>\n",
       "      <th>Cabin</th>\n",
       "      <th>Embarked</th>\n",
       "    </tr>\n",
       "  </thead>\n",
       "  <tbody>\n",
       "    <tr>\n",
       "      <th>0</th>\n",
       "      <td>1</td>\n",
       "      <td>0</td>\n",
       "      <td>3</td>\n",
       "      <td>Braund, Mr. Owen Harris</td>\n",
       "      <td>male</td>\n",
       "      <td>22.0</td>\n",
       "      <td>1</td>\n",
       "      <td>0</td>\n",
       "      <td>A/5 21171</td>\n",
       "      <td>7.2500</td>\n",
       "      <td>NaN</td>\n",
       "      <td>S</td>\n",
       "    </tr>\n",
       "    <tr>\n",
       "      <th>1</th>\n",
       "      <td>2</td>\n",
       "      <td>1</td>\n",
       "      <td>1</td>\n",
       "      <td>Cumings, Mrs. John Bradley (Florence Briggs Th...</td>\n",
       "      <td>female</td>\n",
       "      <td>38.0</td>\n",
       "      <td>1</td>\n",
       "      <td>0</td>\n",
       "      <td>PC 17599</td>\n",
       "      <td>71.2833</td>\n",
       "      <td>C85</td>\n",
       "      <td>C</td>\n",
       "    </tr>\n",
       "    <tr>\n",
       "      <th>2</th>\n",
       "      <td>3</td>\n",
       "      <td>1</td>\n",
       "      <td>3</td>\n",
       "      <td>Heikkinen, Miss. Laina</td>\n",
       "      <td>female</td>\n",
       "      <td>26.0</td>\n",
       "      <td>0</td>\n",
       "      <td>0</td>\n",
       "      <td>STON/O2. 3101282</td>\n",
       "      <td>7.9250</td>\n",
       "      <td>NaN</td>\n",
       "      <td>S</td>\n",
       "    </tr>\n",
       "  </tbody>\n",
       "</table>\n",
       "</div>"
      ],
      "text/plain": [
       "   PassengerId  Survived  Pclass  \\\n",
       "0            1         0       3   \n",
       "1            2         1       1   \n",
       "2            3         1       3   \n",
       "\n",
       "                                                Name     Sex   Age  SibSp  \\\n",
       "0                            Braund, Mr. Owen Harris    male  22.0      1   \n",
       "1  Cumings, Mrs. John Bradley (Florence Briggs Th...  female  38.0      1   \n",
       "2                             Heikkinen, Miss. Laina  female  26.0      0   \n",
       "\n",
       "   Parch            Ticket     Fare Cabin Embarked  \n",
       "0      0         A/5 21171   7.2500   NaN        S  \n",
       "1      0          PC 17599  71.2833   C85        C  \n",
       "2      0  STON/O2. 3101282   7.9250   NaN        S  "
      ]
     },
     "execution_count": 2,
     "metadata": {},
     "output_type": "execute_result"
    }
   ],
   "source": [
    "df_train = pd.read_csv(\"train.csv\")\n",
    "df_train.head(3)"
   ]
  },
  {
   "cell_type": "code",
   "execution_count": 3,
   "id": "801a8737",
   "metadata": {},
   "outputs": [
    {
     "data": {
      "text/plain": [
       "(891, 12)"
      ]
     },
     "execution_count": 3,
     "metadata": {},
     "output_type": "execute_result"
    }
   ],
   "source": [
    "df_train.shape"
   ]
  },
  {
   "cell_type": "code",
   "execution_count": 4,
   "id": "8ec695e7",
   "metadata": {},
   "outputs": [
    {
     "data": {
      "text/plain": [
       "0    549\n",
       "1    342\n",
       "Name: Survived, dtype: int64"
      ]
     },
     "execution_count": 4,
     "metadata": {},
     "output_type": "execute_result"
    }
   ],
   "source": [
    "df_train.Survived.value_counts()"
   ]
  },
  {
   "cell_type": "code",
   "execution_count": 5,
   "id": "f8ff638c",
   "metadata": {},
   "outputs": [
    {
     "data": {
      "text/plain": [
       "male      577\n",
       "female    314\n",
       "Name: Sex, dtype: int64"
      ]
     },
     "execution_count": 5,
     "metadata": {},
     "output_type": "execute_result"
    }
   ],
   "source": [
    "df_train.Sex.value_counts()"
   ]
  },
  {
   "cell_type": "code",
   "execution_count": 6,
   "id": "e2f5a283",
   "metadata": {},
   "outputs": [
    {
     "data": {
      "text/plain": [
       "S    644\n",
       "C    168\n",
       "Q     77\n",
       "Name: Embarked, dtype: int64"
      ]
     },
     "execution_count": 6,
     "metadata": {},
     "output_type": "execute_result"
    }
   ],
   "source": [
    "df_train.Embarked.value_counts()"
   ]
  },
  {
   "cell_type": "code",
   "execution_count": 7,
   "id": "0f5d2896",
   "metadata": {},
   "outputs": [
    {
     "data": {
      "text/plain": [
       "PassengerId      0\n",
       "Survived         0\n",
       "Pclass           0\n",
       "Name             0\n",
       "Sex              0\n",
       "Age            177\n",
       "SibSp            0\n",
       "Parch            0\n",
       "Ticket           0\n",
       "Fare             0\n",
       "Cabin          687\n",
       "Embarked         2\n",
       "dtype: int64"
      ]
     },
     "execution_count": 7,
     "metadata": {},
     "output_type": "execute_result"
    }
   ],
   "source": [
    "df_train.isnull().sum()"
   ]
  },
  {
   "cell_type": "code",
   "execution_count": 8,
   "id": "b8794151",
   "metadata": {},
   "outputs": [],
   "source": [
    "df_train = df_train.drop([\"PassengerId\", \"Name\", \"Ticket\", \"Cabin\"], axis =1)"
   ]
  },
  {
   "cell_type": "code",
   "execution_count": 9,
   "id": "52d447af",
   "metadata": {},
   "outputs": [
    {
     "data": {
      "text/html": [
       "<div>\n",
       "<style scoped>\n",
       "    .dataframe tbody tr th:only-of-type {\n",
       "        vertical-align: middle;\n",
       "    }\n",
       "\n",
       "    .dataframe tbody tr th {\n",
       "        vertical-align: top;\n",
       "    }\n",
       "\n",
       "    .dataframe thead th {\n",
       "        text-align: right;\n",
       "    }\n",
       "</style>\n",
       "<table border=\"1\" class=\"dataframe\">\n",
       "  <thead>\n",
       "    <tr style=\"text-align: right;\">\n",
       "      <th></th>\n",
       "      <th>Survived</th>\n",
       "      <th>Pclass</th>\n",
       "      <th>Sex</th>\n",
       "      <th>Age</th>\n",
       "      <th>SibSp</th>\n",
       "      <th>Parch</th>\n",
       "      <th>Fare</th>\n",
       "      <th>Embarked</th>\n",
       "    </tr>\n",
       "  </thead>\n",
       "  <tbody>\n",
       "    <tr>\n",
       "      <th>0</th>\n",
       "      <td>0</td>\n",
       "      <td>3</td>\n",
       "      <td>male</td>\n",
       "      <td>22.0</td>\n",
       "      <td>1</td>\n",
       "      <td>0</td>\n",
       "      <td>7.2500</td>\n",
       "      <td>S</td>\n",
       "    </tr>\n",
       "    <tr>\n",
       "      <th>1</th>\n",
       "      <td>1</td>\n",
       "      <td>1</td>\n",
       "      <td>female</td>\n",
       "      <td>38.0</td>\n",
       "      <td>1</td>\n",
       "      <td>0</td>\n",
       "      <td>71.2833</td>\n",
       "      <td>C</td>\n",
       "    </tr>\n",
       "    <tr>\n",
       "      <th>2</th>\n",
       "      <td>1</td>\n",
       "      <td>3</td>\n",
       "      <td>female</td>\n",
       "      <td>26.0</td>\n",
       "      <td>0</td>\n",
       "      <td>0</td>\n",
       "      <td>7.9250</td>\n",
       "      <td>S</td>\n",
       "    </tr>\n",
       "  </tbody>\n",
       "</table>\n",
       "</div>"
      ],
      "text/plain": [
       "   Survived  Pclass     Sex   Age  SibSp  Parch     Fare Embarked\n",
       "0         0       3    male  22.0      1      0   7.2500        S\n",
       "1         1       1  female  38.0      1      0  71.2833        C\n",
       "2         1       3  female  26.0      0      0   7.9250        S"
      ]
     },
     "execution_count": 9,
     "metadata": {},
     "output_type": "execute_result"
    }
   ],
   "source": [
    "df_train.head(3)"
   ]
  },
  {
   "cell_type": "code",
   "execution_count": 10,
   "id": "1262a696",
   "metadata": {},
   "outputs": [],
   "source": [
    "def age_aprox(cols):\n",
    "    Age = cols[0]\n",
    "    Pclass = cols[1]\n",
    "    \n",
    "    if pd.isnull(Age):\n",
    "        if Pclass==1:\n",
    "            return 37\n",
    "        elif Pclass==2:\n",
    "            return 29\n",
    "        else :\n",
    "            return 24\n",
    "        \n",
    "    else: return Age"
   ]
  },
  {
   "cell_type": "code",
   "execution_count": 11,
   "id": "a0f1bde7",
   "metadata": {},
   "outputs": [
    {
     "data": {
      "text/html": [
       "<div>\n",
       "<style scoped>\n",
       "    .dataframe tbody tr th:only-of-type {\n",
       "        vertical-align: middle;\n",
       "    }\n",
       "\n",
       "    .dataframe tbody tr th {\n",
       "        vertical-align: top;\n",
       "    }\n",
       "\n",
       "    .dataframe thead th {\n",
       "        text-align: right;\n",
       "    }\n",
       "</style>\n",
       "<table border=\"1\" class=\"dataframe\">\n",
       "  <thead>\n",
       "    <tr style=\"text-align: right;\">\n",
       "      <th></th>\n",
       "      <th>Survived</th>\n",
       "      <th>Pclass</th>\n",
       "      <th>Sex</th>\n",
       "      <th>Age</th>\n",
       "      <th>SibSp</th>\n",
       "      <th>Parch</th>\n",
       "      <th>Fare</th>\n",
       "      <th>Embarked</th>\n",
       "    </tr>\n",
       "  </thead>\n",
       "  <tbody>\n",
       "    <tr>\n",
       "      <th>0</th>\n",
       "      <td>0</td>\n",
       "      <td>3</td>\n",
       "      <td>male</td>\n",
       "      <td>22.0</td>\n",
       "      <td>1</td>\n",
       "      <td>0</td>\n",
       "      <td>7.2500</td>\n",
       "      <td>S</td>\n",
       "    </tr>\n",
       "    <tr>\n",
       "      <th>1</th>\n",
       "      <td>1</td>\n",
       "      <td>1</td>\n",
       "      <td>female</td>\n",
       "      <td>38.0</td>\n",
       "      <td>1</td>\n",
       "      <td>0</td>\n",
       "      <td>71.2833</td>\n",
       "      <td>C</td>\n",
       "    </tr>\n",
       "    <tr>\n",
       "      <th>2</th>\n",
       "      <td>1</td>\n",
       "      <td>3</td>\n",
       "      <td>female</td>\n",
       "      <td>26.0</td>\n",
       "      <td>0</td>\n",
       "      <td>0</td>\n",
       "      <td>7.9250</td>\n",
       "      <td>S</td>\n",
       "    </tr>\n",
       "    <tr>\n",
       "      <th>3</th>\n",
       "      <td>1</td>\n",
       "      <td>1</td>\n",
       "      <td>female</td>\n",
       "      <td>35.0</td>\n",
       "      <td>1</td>\n",
       "      <td>0</td>\n",
       "      <td>53.1000</td>\n",
       "      <td>S</td>\n",
       "    </tr>\n",
       "    <tr>\n",
       "      <th>4</th>\n",
       "      <td>0</td>\n",
       "      <td>3</td>\n",
       "      <td>male</td>\n",
       "      <td>35.0</td>\n",
       "      <td>0</td>\n",
       "      <td>0</td>\n",
       "      <td>8.0500</td>\n",
       "      <td>S</td>\n",
       "    </tr>\n",
       "  </tbody>\n",
       "</table>\n",
       "</div>"
      ],
      "text/plain": [
       "   Survived  Pclass     Sex   Age  SibSp  Parch     Fare Embarked\n",
       "0         0       3    male  22.0      1      0   7.2500        S\n",
       "1         1       1  female  38.0      1      0  71.2833        C\n",
       "2         1       3  female  26.0      0      0   7.9250        S\n",
       "3         1       1  female  35.0      1      0  53.1000        S\n",
       "4         0       3    male  35.0      0      0   8.0500        S"
      ]
     },
     "execution_count": 11,
     "metadata": {},
     "output_type": "execute_result"
    }
   ],
   "source": [
    "df_train[\"Age\"] = df_train[[\"Age\", \"Pclass\"]].apply(age_aprox,axis = 1)\n",
    "df_train.head()"
   ]
  },
  {
   "cell_type": "code",
   "execution_count": 12,
   "id": "fa048cc3",
   "metadata": {},
   "outputs": [
    {
     "data": {
      "text/plain": [
       "Survived    0\n",
       "Pclass      0\n",
       "Sex         0\n",
       "Age         0\n",
       "SibSp       0\n",
       "Parch       0\n",
       "Fare        0\n",
       "Embarked    2\n",
       "dtype: int64"
      ]
     },
     "execution_count": 12,
     "metadata": {},
     "output_type": "execute_result"
    }
   ],
   "source": [
    "df_train.isnull().sum()"
   ]
  },
  {
   "cell_type": "code",
   "execution_count": 13,
   "id": "061d2a65",
   "metadata": {},
   "outputs": [
    {
     "data": {
      "text/plain": [
       "Survived    0\n",
       "Pclass      0\n",
       "Sex         0\n",
       "Age         0\n",
       "SibSp       0\n",
       "Parch       0\n",
       "Fare        0\n",
       "Embarked    0\n",
       "dtype: int64"
      ]
     },
     "execution_count": 13,
     "metadata": {},
     "output_type": "execute_result"
    }
   ],
   "source": [
    "df_train.dropna(inplace = True)\n",
    "df_train.isnull().sum()"
   ]
  },
  {
   "cell_type": "code",
   "execution_count": 14,
   "id": "c2978908",
   "metadata": {},
   "outputs": [
    {
     "data": {
      "text/plain": [
       "Survived      int64\n",
       "Pclass        int64\n",
       "Sex          object\n",
       "Age         float64\n",
       "SibSp         int64\n",
       "Parch         int64\n",
       "Fare        float64\n",
       "Embarked     object\n",
       "dtype: object"
      ]
     },
     "execution_count": 14,
     "metadata": {},
     "output_type": "execute_result"
    }
   ],
   "source": [
    "df_train.dtypes"
   ]
  },
  {
   "cell_type": "markdown",
   "id": "4cbb23fb",
   "metadata": {},
   "source": [
    "# Use Dummies\n",
    "* The get_dummies function is used to convert categorical variables into dummy or indicator variables.\n",
    "* A dummy or indicator variable can have a value of 0 or 1."
   ]
  },
  {
   "cell_type": "code",
   "execution_count": 15,
   "id": "0f938988",
   "metadata": {},
   "outputs": [],
   "source": [
    "df_train_dummied = pd.get_dummies(df_train , columns = [\"Sex\"])\n"
   ]
  },
  {
   "cell_type": "code",
   "execution_count": 16,
   "id": "6ac62248",
   "metadata": {},
   "outputs": [],
   "source": [
    "df_train_dummied = pd.get_dummies(df_train_dummied , columns = [\"Embarked\"])"
   ]
  },
  {
   "cell_type": "code",
   "execution_count": 17,
   "id": "7a7be2d8",
   "metadata": {},
   "outputs": [
    {
     "data": {
      "text/html": [
       "<div>\n",
       "<style scoped>\n",
       "    .dataframe tbody tr th:only-of-type {\n",
       "        vertical-align: middle;\n",
       "    }\n",
       "\n",
       "    .dataframe tbody tr th {\n",
       "        vertical-align: top;\n",
       "    }\n",
       "\n",
       "    .dataframe thead th {\n",
       "        text-align: right;\n",
       "    }\n",
       "</style>\n",
       "<table border=\"1\" class=\"dataframe\">\n",
       "  <thead>\n",
       "    <tr style=\"text-align: right;\">\n",
       "      <th></th>\n",
       "      <th>Survived</th>\n",
       "      <th>Pclass</th>\n",
       "      <th>Age</th>\n",
       "      <th>SibSp</th>\n",
       "      <th>Parch</th>\n",
       "      <th>Fare</th>\n",
       "      <th>Sex_female</th>\n",
       "      <th>Sex_male</th>\n",
       "      <th>Embarked_C</th>\n",
       "      <th>Embarked_Q</th>\n",
       "      <th>Embarked_S</th>\n",
       "    </tr>\n",
       "  </thead>\n",
       "  <tbody>\n",
       "    <tr>\n",
       "      <th>0</th>\n",
       "      <td>0</td>\n",
       "      <td>3</td>\n",
       "      <td>22.0</td>\n",
       "      <td>1</td>\n",
       "      <td>0</td>\n",
       "      <td>7.2500</td>\n",
       "      <td>0</td>\n",
       "      <td>1</td>\n",
       "      <td>0</td>\n",
       "      <td>0</td>\n",
       "      <td>1</td>\n",
       "    </tr>\n",
       "    <tr>\n",
       "      <th>1</th>\n",
       "      <td>1</td>\n",
       "      <td>1</td>\n",
       "      <td>38.0</td>\n",
       "      <td>1</td>\n",
       "      <td>0</td>\n",
       "      <td>71.2833</td>\n",
       "      <td>1</td>\n",
       "      <td>0</td>\n",
       "      <td>1</td>\n",
       "      <td>0</td>\n",
       "      <td>0</td>\n",
       "    </tr>\n",
       "    <tr>\n",
       "      <th>2</th>\n",
       "      <td>1</td>\n",
       "      <td>3</td>\n",
       "      <td>26.0</td>\n",
       "      <td>0</td>\n",
       "      <td>0</td>\n",
       "      <td>7.9250</td>\n",
       "      <td>1</td>\n",
       "      <td>0</td>\n",
       "      <td>0</td>\n",
       "      <td>0</td>\n",
       "      <td>1</td>\n",
       "    </tr>\n",
       "    <tr>\n",
       "      <th>3</th>\n",
       "      <td>1</td>\n",
       "      <td>1</td>\n",
       "      <td>35.0</td>\n",
       "      <td>1</td>\n",
       "      <td>0</td>\n",
       "      <td>53.1000</td>\n",
       "      <td>1</td>\n",
       "      <td>0</td>\n",
       "      <td>0</td>\n",
       "      <td>0</td>\n",
       "      <td>1</td>\n",
       "    </tr>\n",
       "    <tr>\n",
       "      <th>4</th>\n",
       "      <td>0</td>\n",
       "      <td>3</td>\n",
       "      <td>35.0</td>\n",
       "      <td>0</td>\n",
       "      <td>0</td>\n",
       "      <td>8.0500</td>\n",
       "      <td>0</td>\n",
       "      <td>1</td>\n",
       "      <td>0</td>\n",
       "      <td>0</td>\n",
       "      <td>1</td>\n",
       "    </tr>\n",
       "  </tbody>\n",
       "</table>\n",
       "</div>"
      ],
      "text/plain": [
       "   Survived  Pclass   Age  SibSp  Parch     Fare  Sex_female  Sex_male  \\\n",
       "0         0       3  22.0      1      0   7.2500           0         1   \n",
       "1         1       1  38.0      1      0  71.2833           1         0   \n",
       "2         1       3  26.0      0      0   7.9250           1         0   \n",
       "3         1       1  35.0      1      0  53.1000           1         0   \n",
       "4         0       3  35.0      0      0   8.0500           0         1   \n",
       "\n",
       "   Embarked_C  Embarked_Q  Embarked_S  \n",
       "0           0           0           1  \n",
       "1           1           0           0  \n",
       "2           0           0           1  \n",
       "3           0           0           1  \n",
       "4           0           0           1  "
      ]
     },
     "execution_count": 17,
     "metadata": {},
     "output_type": "execute_result"
    }
   ],
   "source": [
    "df_train_dummied.head(5)"
   ]
  },
  {
   "cell_type": "code",
   "execution_count": 18,
   "id": "691f0b47",
   "metadata": {},
   "outputs": [
    {
     "data": {
      "text/plain": [
       "<AxesSubplot: >"
      ]
     },
     "execution_count": 18,
     "metadata": {},
     "output_type": "execute_result"
    },
    {
     "data": {
      "image/png": "[encoded data removed]",
      "text/plain": [
       "<Figure size 432x288 with 2 Axes>"
      ]
     },
     "metadata": {},
     "output_type": "display_data"
    }
   ],
   "source": [
    "plt.figure(figsize= (6,4))\n",
    "sns.heatmap(df_train_dummied.corr() )"
   ]
  },
  {
   "cell_type": "code",
   "execution_count": 19,
   "id": "0bd16081",
   "metadata": {},
   "outputs": [],
   "source": [
    "used_feature = [\"Pclass\", 'Age','SibSp','Parch','Fare','Sex_female','Sex_male','Embarked_C','Embarked_Q','Embarked_S']\n",
    "\n",
    "X = df_train_dummied[used_feature].values\n",
    "y = df_train_dummied[\"Survived\"]"
   ]
  },
  {
   "cell_type": "code",
   "execution_count": 20,
   "id": "a9cd7f36",
   "metadata": {},
   "outputs": [],
   "source": [
    "X_train , X_test , y_train , y_test = train_test_split(X ,y , test_size= 0.3 , random_state= 1 )"
   ]
  },
  {
   "cell_type": "code",
   "execution_count": 21,
   "id": "749e8e88",
   "metadata": {},
   "outputs": [
    {
     "name": "stdout",
     "output_type": "stream",
     "text": [
      "(622, 10)\n",
      "(267, 10)\n",
      "(622,)\n",
      "(267,)\n"
     ]
    }
   ],
   "source": [
    "print(X_train.shape)\n",
    "print(X_test.shape)\n",
    "print(y_train.shape)\n",
    "print(y_test.shape)"
   ]
  },
  {
   "cell_type": "code",
   "execution_count": 22,
   "id": "66dec4d7",
   "metadata": {},
   "outputs": [],
   "source": [
    "logreg = LogisticRegression()"
   ]
  },
  {
   "cell_type": "code",
   "execution_count": 23,
   "id": "f82ff02a",
   "metadata": {},
   "outputs": [
    {
     "name": "stderr",
     "output_type": "stream",
     "text": [
      "C:\\Users\\Qazi Moawiz\\anaconda3\\lib\\site-packages\\sklearn\\linear_model\\_logistic.py:814: ConvergenceWarning: lbfgs failed to converge (status=1):\n",
      "STOP: TOTAL NO. of ITERATIONS REACHED LIMIT.\n",
      "\n",
      "Increase the number of iterations (max_iter) or scale the data as shown in:\n",
      "    https://scikit-learn.org/stable/modules/preprocessing.html\n",
      "Please also refer to the documentation for alternative solver options:\n",
      "    https://scikit-learn.org/stable/modules/linear_model.html#logistic-regression\n",
      "  n_iter_i = _check_optimize_result(\n"
     ]
    },
    {
     "data": {
      "text/plain": [
       "LogisticRegression()"
      ]
     },
     "execution_count": 23,
     "metadata": {},
     "output_type": "execute_result"
    }
   ],
   "source": [
    "logreg.fit(X_train ,y_train)"
   ]
  },
  {
   "cell_type": "code",
   "execution_count": 24,
   "id": "5b9c63db",
   "metadata": {},
   "outputs": [],
   "source": [
    "y_predict = logreg.predict(X_test)"
   ]
  },
  {
   "cell_type": "code",
   "execution_count": 25,
   "id": "e302355c",
   "metadata": {},
   "outputs": [
    {
     "data": {
      "text/plain": [
       "array([[142,  24],\n",
       "       [ 22,  79]], dtype=int64)"
      ]
     },
     "execution_count": 25,
     "metadata": {},
     "output_type": "execute_result"
    }
   ],
   "source": [
    "metrics.confusion_matrix(y_test ,y_predict)"
   ]
  },
  {
   "cell_type": "code",
   "execution_count": 26,
   "id": "94bf301c",
   "metadata": {},
   "outputs": [
    {
     "data": {
      "text/plain": [
       "0.8277153558052435"
      ]
     },
     "execution_count": 26,
     "metadata": {},
     "output_type": "execute_result"
    }
   ],
   "source": [
    "metrics.accuracy_score(y_test ,y_predict)"
   ]
  },
  {
   "cell_type": "code",
   "execution_count": 27,
   "id": "56abfba1",
   "metadata": {},
   "outputs": [
    {
     "data": {
      "text/plain": [
       "267"
      ]
     },
     "execution_count": 27,
     "metadata": {},
     "output_type": "execute_result"
    }
   ],
   "source": [
    "len(X_test)"
   ]
  },
  {
   "cell_type": "code",
   "execution_count": 30,
   "id": "0462c880",
   "metadata": {},
   "outputs": [
    {
     "name": "stdout",
     "output_type": "stream",
     "text": [
      "              precision    recall  f1-score   support\n",
      "\n",
      "           0       0.87      0.86      0.86       166\n",
      "           1       0.77      0.78      0.77       101\n",
      "\n",
      "    accuracy                           0.83       267\n",
      "   macro avg       0.82      0.82      0.82       267\n",
      "weighted avg       0.83      0.83      0.83       267\n",
      "\n"
     ]
    }
   ],
   "source": [
    "print(classification_report(y_test ,y_predict))"
   ]
  },
  {
   "cell_type": "code",
   "execution_count": 31,
   "id": "a9bbfd2d",
   "metadata": {},
   "outputs": [
    {
     "data": {
      "text/plain": [
       "array([[-8.77654262e-01, -3.16226922e-02, -2.14189140e-01,\n",
       "        -4.73204045e-02,  1.63113710e-03,  1.88679064e+00,\n",
       "        -4.08194463e-01,  9.13797525e-01,  3.47587969e-01,\n",
       "         2.17210679e-01]])"
      ]
     },
     "execution_count": 31,
     "metadata": {},
     "output_type": "execute_result"
    }
   ],
   "source": [
    "logreg.coef_"
   ]
  },
  {
   "cell_type": "code",
   "execution_count": 32,
   "id": "ed9394a4",
   "metadata": {},
   "outputs": [
    {
     "data": {
      "text/plain": [
       "array([1.69513867])"
      ]
     },
     "execution_count": 32,
     "metadata": {},
     "output_type": "execute_result"
    }
   ],
   "source": [
    "logreg.intercept_"
   ]
  },
  {
   "cell_type": "code",
   "execution_count": 33,
   "id": "451b74eb",
   "metadata": {},
   "outputs": [
    {
     "data": {
      "text/plain": [
       "Index(['Pclass', 'Age', 'SibSp', 'Parch', 'Fare', 'Sex_female', 'Sex_male',\n",
       "       'Embarked_C', 'Embarked_Q', 'Embarked_S'],\n",
       "      dtype='object')"
      ]
     },
     "execution_count": 33,
     "metadata": {},
     "output_type": "execute_result"
    }
   ],
   "source": [
    "df_train_dummied[used_feature].columns"
   ]
  },
  {
   "cell_type": "code",
   "execution_count": 34,
   "id": "d6b0f4da",
   "metadata": {},
   "outputs": [
    {
     "data": {
      "text/plain": [
       "array([[0.28361108, 0.71638892],\n",
       "       [0.38751118, 0.61248882],\n",
       "       [0.93301083, 0.06698917],\n",
       "       [0.30933443, 0.69066557],\n",
       "       [0.93466204, 0.06533796],\n",
       "       [0.15615553, 0.84384447],\n",
       "       [0.35137017, 0.64862983],\n",
       "       [0.52050249, 0.47949751],\n",
       "       [0.77197987, 0.22802013],\n",
       "       [0.41170681, 0.58829319],\n",
       "       [0.73037577, 0.26962423],\n",
       "       [0.21928944, 0.78071056],\n",
       "       [0.7589638 , 0.2410362 ],\n",
       "       [0.18164287, 0.81835713],\n",
       "       [0.85955852, 0.14044148],\n",
       "       [0.3807127 , 0.6192873 ],\n",
       "       [0.86521167, 0.13478833],\n",
       "       [0.30999802, 0.69000198],\n",
       "       [0.19556177, 0.80443823],\n",
       "       [0.41156614, 0.58843386],\n",
       "       [0.88580422, 0.11419578],\n",
       "       [0.58780236, 0.41219764],\n",
       "       [0.85188407, 0.14811593],\n",
       "       [0.9286241 , 0.0713759 ],\n",
       "       [0.50059258, 0.49940742],\n",
       "       [0.49705601, 0.50294399],\n",
       "       [0.04766268, 0.95233732],\n",
       "       [0.86307669, 0.13692331],\n",
       "       [0.88851687, 0.11148313],\n",
       "       [0.36579194, 0.63420806],\n",
       "       [0.39642983, 0.60357017],\n",
       "       [0.25884653, 0.74115347],\n",
       "       [0.18461168, 0.81538832],\n",
       "       [0.4587049 , 0.5412951 ],\n",
       "       [0.62119062, 0.37880938],\n",
       "       [0.19831138, 0.80168862],\n",
       "       [0.65532932, 0.34467068],\n",
       "       [0.8669804 , 0.1330196 ],\n",
       "       [0.26844203, 0.73155797],\n",
       "       [0.55894275, 0.44105725],\n",
       "       [0.44130101, 0.55869899],\n",
       "       [0.89383803, 0.10616197],\n",
       "       [0.28484323, 0.71515677],\n",
       "       [0.86699216, 0.13300784],\n",
       "       [0.7842825 , 0.2157175 ],\n",
       "       [0.25862833, 0.74137167],\n",
       "       [0.19063482, 0.80936518],\n",
       "       [0.80876867, 0.19123133],\n",
       "       [0.0855213 , 0.9144787 ],\n",
       "       [0.91043604, 0.08956396],\n",
       "       [0.86708618, 0.13291382],\n",
       "       [0.44580354, 0.55419646],\n",
       "       [0.89167659, 0.10832341],\n",
       "       [0.10666045, 0.89333955],\n",
       "       [0.759709  , 0.240291  ],\n",
       "       [0.09379291, 0.90620709],\n",
       "       [0.78154288, 0.21845712],\n",
       "       [0.94058025, 0.05941975],\n",
       "       [0.72257504, 0.27742496],\n",
       "       [0.92663418, 0.07336582],\n",
       "       [0.79989971, 0.20010029],\n",
       "       [0.85558923, 0.14441077],\n",
       "       [0.6192696 , 0.3807304 ],\n",
       "       [0.86699216, 0.13300784],\n",
       "       [0.45059566, 0.54940434],\n",
       "       [0.26101713, 0.73898287],\n",
       "       [0.86577424, 0.13422576],\n",
       "       [0.89965381, 0.10034619],\n",
       "       [0.8393145 , 0.1606855 ],\n",
       "       [0.06039545, 0.93960455],\n",
       "       [0.7976762 , 0.2023238 ],\n",
       "       [0.08073004, 0.91926996],\n",
       "       [0.62106841, 0.37893159],\n",
       "       [0.8557059 , 0.1442941 ],\n",
       "       [0.32368608, 0.67631392],\n",
       "       [0.1563921 , 0.8436079 ],\n",
       "       [0.85128736, 0.14871264],\n",
       "       [0.91125613, 0.08874387],\n",
       "       [0.80655943, 0.19344057],\n",
       "       [0.82608082, 0.17391918],\n",
       "       [0.85128736, 0.14871264],\n",
       "       [0.85952815, 0.14047185],\n",
       "       [0.04869929, 0.95130071],\n",
       "       [0.0542207 , 0.9457793 ],\n",
       "       [0.77034359, 0.22965641],\n",
       "       [0.65439329, 0.34560671],\n",
       "       [0.46327736, 0.53672264],\n",
       "       [0.27427711, 0.72572289],\n",
       "       [0.86699216, 0.13300784],\n",
       "       [0.38045153, 0.61954847],\n",
       "       [0.8873904 , 0.1126096 ],\n",
       "       [0.36580613, 0.63419387],\n",
       "       [0.92100274, 0.07899726],\n",
       "       [0.7648352 , 0.2351648 ],\n",
       "       [0.24682753, 0.75317247],\n",
       "       [0.83103395, 0.16896605],\n",
       "       [0.26339205, 0.73660795],\n",
       "       [0.29875597, 0.70124403],\n",
       "       [0.24682626, 0.75317374],\n",
       "       [0.24160498, 0.75839502],\n",
       "       [0.84767855, 0.15232145],\n",
       "       [0.36241458, 0.63758542],\n",
       "       [0.60994386, 0.39005614],\n",
       "       [0.85175725, 0.14824275],\n",
       "       [0.8515907 , 0.1484093 ],\n",
       "       [0.89930336, 0.10069664],\n",
       "       [0.1168141 , 0.8831859 ],\n",
       "       [0.84771102, 0.15228898],\n",
       "       [0.75326988, 0.24673012],\n",
       "       [0.81202679, 0.18797321],\n",
       "       [0.64508191, 0.35491809],\n",
       "       [0.76282162, 0.23717838],\n",
       "       [0.7648352 , 0.2351648 ],\n",
       "       [0.19778301, 0.80221699],\n",
       "       [0.35869595, 0.64130405],\n",
       "       [0.09330557, 0.90669443],\n",
       "       [0.90999814, 0.09000186],\n",
       "       [0.41173479, 0.58826521],\n",
       "       [0.07061903, 0.92938097],\n",
       "       [0.79262491, 0.20737509],\n",
       "       [0.87074359, 0.12925641],\n",
       "       [0.2209111 , 0.7790889 ],\n",
       "       [0.36565951, 0.63434049],\n",
       "       [0.55369912, 0.44630088],\n",
       "       [0.22107156, 0.77892844],\n",
       "       [0.88119478, 0.11880522],\n",
       "       [0.48970891, 0.51029109],\n",
       "       [0.90460884, 0.09539116],\n",
       "       [0.87414681, 0.12585319],\n",
       "       [0.55998854, 0.44001146],\n",
       "       [0.4453925 , 0.5546075 ],\n",
       "       [0.6104046 , 0.3895954 ],\n",
       "       [0.87378538, 0.12621462],\n",
       "       [0.62251392, 0.37748608],\n",
       "       [0.38170829, 0.61829171],\n",
       "       [0.09426083, 0.90573917],\n",
       "       [0.85403722, 0.14596278],\n",
       "       [0.91286792, 0.08713208],\n",
       "       [0.86566047, 0.13433953],\n",
       "       [0.87841461, 0.12158539],\n",
       "       [0.84721893, 0.15278107],\n",
       "       [0.32439757, 0.67560243],\n",
       "       [0.91032348, 0.08967652],\n",
       "       [0.39847728, 0.60152272],\n",
       "       [0.63263529, 0.36736471],\n",
       "       [0.67862147, 0.32137853],\n",
       "       [0.19864874, 0.80135126],\n",
       "       [0.08368059, 0.91631941],\n",
       "       [0.09727193, 0.90272807],\n",
       "       [0.92411133, 0.07588867],\n",
       "       [0.87194272, 0.12805728],\n",
       "       [0.92258956, 0.07741044],\n",
       "       [0.15511664, 0.84488336],\n",
       "       [0.84771102, 0.15228898],\n",
       "       [0.41073906, 0.58926094],\n",
       "       [0.3815062 , 0.6184938 ],\n",
       "       [0.777259  , 0.222741  ],\n",
       "       [0.39861667, 0.60138333],\n",
       "       [0.88066551, 0.11933449],\n",
       "       [0.86704388, 0.13295612],\n",
       "       [0.55008878, 0.44991122],\n",
       "       [0.77659849, 0.22340151],\n",
       "       [0.55998854, 0.44001146],\n",
       "       [0.87504064, 0.12495936],\n",
       "       [0.85949277, 0.14050723],\n",
       "       [0.83502123, 0.16497877],\n",
       "       [0.13156781, 0.86843219],\n",
       "       [0.03399494, 0.96600506],\n",
       "       [0.77271752, 0.22728248],\n",
       "       [0.25311245, 0.74688755],\n",
       "       [0.84936625, 0.15063375],\n",
       "       [0.89619857, 0.10380143],\n",
       "       [0.85128736, 0.14871264],\n",
       "       [0.86703997, 0.13296003],\n",
       "       [0.67905355, 0.32094645],\n",
       "       [0.29972143, 0.70027857],\n",
       "       [0.85952815, 0.14047185],\n",
       "       [0.72967441, 0.27032559],\n",
       "       [0.86699216, 0.13300784],\n",
       "       [0.84723135, 0.15276865],\n",
       "       [0.85128736, 0.14871264],\n",
       "       [0.86699216, 0.13300784],\n",
       "       [0.60369917, 0.39630083],\n",
       "       [0.92230694, 0.07769306],\n",
       "       [0.36585185, 0.63414815],\n",
       "       [0.78371963, 0.21628037],\n",
       "       [0.41369689, 0.58630311],\n",
       "       [0.61511737, 0.38488263],\n",
       "       [0.22763743, 0.77236257],\n",
       "       [0.8935812 , 0.1064188 ],\n",
       "       [0.7460476 , 0.2539524 ],\n",
       "       [0.70569168, 0.29430832],\n",
       "       [0.85971023, 0.14028977],\n",
       "       [0.77091774, 0.22908226],\n",
       "       [0.9233913 , 0.0766087 ],\n",
       "       [0.74326301, 0.25673699],\n",
       "       [0.89442263, 0.10557737],\n",
       "       [0.28882976, 0.71117024],\n",
       "       [0.62251392, 0.37748608],\n",
       "       [0.09373285, 0.90626715],\n",
       "       [0.71424607, 0.28575393],\n",
       "       [0.21314159, 0.78685841],\n",
       "       [0.79339559, 0.20660441],\n",
       "       [0.563984  , 0.436016  ],\n",
       "       [0.05409868, 0.94590132],\n",
       "       [0.88094023, 0.11905977],\n",
       "       [0.86880492, 0.13119508],\n",
       "       [0.30106582, 0.69893418],\n",
       "       [0.78946041, 0.21053959],\n",
       "       [0.08713351, 0.91286649],\n",
       "       [0.84967989, 0.15032011],\n",
       "       [0.75313154, 0.24686846],\n",
       "       [0.76483643, 0.23516357],\n",
       "       [0.75327115, 0.24672885],\n",
       "       [0.32798326, 0.67201674],\n",
       "       [0.18155089, 0.81844911],\n",
       "       [0.76543426, 0.23456574],\n",
       "       [0.20726049, 0.79273951],\n",
       "       [0.90224939, 0.09775061],\n",
       "       [0.69657108, 0.30342892],\n",
       "       [0.87504064, 0.12495936],\n",
       "       [0.49121293, 0.50878707],\n",
       "       [0.661947  , 0.338053  ],\n",
       "       [0.24668793, 0.75331207],\n",
       "       [0.26696351, 0.73303649],\n",
       "       [0.85927193, 0.14072807],\n",
       "       [0.63029883, 0.36970117],\n",
       "       [0.85128736, 0.14871264],\n",
       "       [0.77047644, 0.22952356],\n",
       "       [0.75585401, 0.24414599],\n",
       "       [0.41027886, 0.58972114],\n",
       "       [0.28634265, 0.71365735],\n",
       "       [0.46588986, 0.53411014],\n",
       "       [0.85128736, 0.14871264],\n",
       "       [0.88752073, 0.11247927],\n",
       "       [0.88358957, 0.11641043],\n",
       "       [0.86702116, 0.13297884],\n",
       "       [0.80774382, 0.19225618],\n",
       "       [0.40624059, 0.59375941],\n",
       "       [0.87067014, 0.12932986],\n",
       "       [0.30903937, 0.69096063],\n",
       "       [0.84786889, 0.15213111],\n",
       "       [0.84765574, 0.15234426],\n",
       "       [0.6633568 , 0.3366432 ],\n",
       "       [0.50115529, 0.49884471],\n",
       "       [0.12554601, 0.87445399],\n",
       "       [0.15305514, 0.84694486],\n",
       "       [0.76224201, 0.23775799],\n",
       "       [0.70016463, 0.29983537],\n",
       "       [0.87007363, 0.12992637],\n",
       "       [0.21579061, 0.78420939],\n",
       "       [0.36577616, 0.63422384],\n",
       "       [0.40412854, 0.59587146],\n",
       "       [0.92698452, 0.07301548],\n",
       "       [0.11548202, 0.88451798],\n",
       "       [0.2318648 , 0.7681352 ],\n",
       "       [0.874167  , 0.125833  ],\n",
       "       [0.89357667, 0.10642333],\n",
       "       [0.05173626, 0.94826374],\n",
       "       [0.7648352 , 0.2351648 ],\n",
       "       [0.23020647, 0.76979353],\n",
       "       [0.87719082, 0.12280918],\n",
       "       [0.67245845, 0.32754155],\n",
       "       [0.86702116, 0.13297884],\n",
       "       [0.28634402, 0.71365598],\n",
       "       [0.85129253, 0.14870747],\n",
       "       [0.90258364, 0.09741636]])"
      ]
     },
     "execution_count": 34,
     "metadata": {},
     "output_type": "execute_result"
    }
   ],
   "source": [
    "logreg.predict_proba(X_test)"
   ]
  },
  {
   "cell_type": "code",
   "execution_count": null,
   "id": "979207a4",
   "metadata": {},
   "outputs": [],
   "source": []
  }
 ],
 "metadata": {
  "kernelspec": {
   "display_name": "Python 3 (ipykernel)",
   "language": "python",
   "name": "python3"
  },
  "language_info": {
   "codemirror_mode": {
    "name": "ipython",
    "version": 3
   },
   "file_extension": ".py",
   "mimetype": "text/x-python",
   "name": "python",
   "nbconvert_exporter": "python",
   "pygments_lexer": "ipython3",
   "version": "3.9.12"
  }
 },
 "nbformat": 4,
 "nbformat_minor": 5
}
